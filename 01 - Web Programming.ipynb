{
 "cells": [
  {
   "cell_type": "markdown",
   "metadata": {},
   "source": [
    "# Goal - Create your very first web app\n",
    "\n",
    "* Learn how to structure your projects  \n",
    "* Create the front end using HTML  \n",
    "* Learn server-side programming  \n"
   ]
  },
  {
   "cell_type": "markdown",
   "metadata": {},
   "source": [
    "#### Prerequisites:  \n",
    "\n",
    "> Install Python and all needed libraries ([windows/Mac/Linux](http://bit.ly/1Rr6SmZ))\n",
    "\n",
    "> The Python library we will be using to create our web app is called [Tornado](http://www.tornadoweb.org/). If you follow the steps in the previous link, you will have Tornado installed on your machine.\n"
   ]
  },
  {
   "cell_type": "markdown",
   "metadata": {},
   "source": [
    "# 01 - Lesson  \n",
    "\n",
    "Start by downloading [Lesson 1](http://bit.ly/1REXTwH) into your computer. This link will take you to the DropBox repository. After the download is complete you can then navigate to the ***01 - Lesson*** folder."
   ]
  },
  {
   "cell_type": "markdown",
   "metadata": {},
   "source": [
    "These are the files you will find in the folder.  \n",
    "\n",
    "* static  \n",
    "* templates  \n",
    "* app.py  \n",
    "\n",
    "### static:  \n",
    "\n",
    "> This folder will hold any javascript, css, or any other misc files. For our first lessons we will leave this folder empty. \n",
    "\n",
    "### templates:    \n",
    "\n",
    "> This folder will hold all of our HTML files.\n",
    "\n",
    "### app.py:  \n",
    "\n",
    "> This is our Python server.  \n"
   ]
  },
  {
   "cell_type": "markdown",
   "metadata": {},
   "source": [
    "# How do I run the app?  \n",
    "\n",
    "We first need to run the ***app.py*** script and then navigate to ***http://localhost:8888/***  \n",
    "\n",
    "**Step 1:** Open the terminal/command prompt and navigate to the ***\"01 - Lesson\"*** folder  \n",
    "> i.e. cd C:\\\\repos\\\\tornado\\\\lessons\\\\01 - Lesson  \n",
    "\n",
    "**Step 2:** Run the app.py file in the terminal  \n",
    "> i.e. python app.py  \n",
    "\n",
    "You should see the a similar message:    \n",
    "\n",
    "> Microsoft Windows [Version 6.1.7601]  \n",
    "> Copyright (c) 2009 Microsoft Corporation.  All rights reserved.  \n",
    "\n",
    "> C:\\\\Users\\\\david>cd C:\\\\repos\\\\tornado\\\\lessons\\\\01 - Lesson   \n",
    "\n",
    "> C:\\\\repos\\\\tornado\\\\lessons\\\\01 - Lesson>python app.py  \n",
    "> Server Running at http://localhost:8888/  \n",
    "> To close press ctrl + c \n",
    "\n",
    "**Step 3:** Using your web browser navigate to ***http://localhost:8888/***  \n",
    "\n",
    "If the page renders and you see \"Welcome to Tornado\", you are ready to continue.  "
   ]
  },
  {
   "cell_type": "markdown",
   "metadata": {},
   "source": [
    "# Front-end  \n",
    "\n",
    "A typical web application will have two major components to it:  \n",
    "\n",
    "> Front-end: Which simply means what you see in your web browser.  \n",
    "> Back-end: This means all of the code that happends on the server, in our case, all of the Python code."
   ]
  },
  {
   "cell_type": "markdown",
   "metadata": {},
   "source": [
    "There are two HTML files that are used to create the front end (what you are seeing in the web browser). Open the ***templates*** folder to find the two files below.\n",
    "\n",
    "* template.html - This is the first file we create and then the rest of the HTML files are based of this template  \n",
    "* index.html - The main file that will be served when we navigate to localhost  \n",
    "\n",
    "### template.HTML  \n",
    "\n",
    "Lets look at the code..."
   ]
  },
  {
   "cell_type": "code",
   "execution_count": 1,
   "metadata": {
    "collapsed": false
   },
   "outputs": [],
   "source": [
    "# <!DOCTYPE html>\n",
    "# <head>\n",
    "#   <title>Tornado</title>\n",
    "# </head>\n",
    "# <body>\n",
    "#\n",
    "#     {% block content %}\n",
    "#     {% end block %}\n",
    "#        \n",
    "# </body>\n",
    "# </html>"
   ]
  },
  {
   "cell_type": "markdown",
   "metadata": {},
   "source": [
    "***DOCTYPE tag*** - Tells the web broswer that we are going to be using HTML5  \n",
    "\n",
    "***head tags*** - Inside these tags <></> you usually place a title for the page, javascript files, and/or CSS files. In our example we only have a title.  \n",
    "\n",
    "***body tags*** - Here is were most of the content of the page is found. anything from text, links, videos, pictures, etc.   \n",
    "\n",
    "***{% start / end block%}*** - This is part of tornado templating system. More on how to use this later.  \n",
    "\n",
    "***html tag*** - Here we are just simply closing the HTML tag on line one.  \n",
    "\n"
   ]
  },
  {
   "cell_type": "markdown",
   "metadata": {},
   "source": [
    "### index.HTML    \n",
    "\n",
    "Lets look at the code..."
   ]
  },
  {
   "cell_type": "code",
   "execution_count": 2,
   "metadata": {
    "collapsed": false
   },
   "outputs": [],
   "source": [
    "# {% extends \"template.html\" %}\n",
    "# {% block content %}\n",
    "#\n",
    "#                <h2>Welcome to Tornado</h2>\n",
    "#                <br>\n",
    "#                <p>This is the index page</p>\n",
    "#\n",
    "# {% end block %}"
   ]
  },
  {
   "cell_type": "markdown",
   "metadata": {},
   "source": [
    "***{% extends \"template.html\" %}*** - This just means we will be importing all of the code we wrote in the template.html file    \n",
    "\n",
    "The interesting part is that we now see the same ***{% start / end block%}*** code in the index.html file as we saw in the template.html file.  \n",
    "\n",
    "What is happening here?  \n",
    "> Everything in between the block code will be placed in the block code of the template.html file"
   ]
  },
  {
   "cell_type": "code",
   "execution_count": 3,
   "metadata": {
    "collapsed": false
   },
   "outputs": [],
   "source": [
    "# {% block content %}\n",
    "#    \n",
    "#                <h2>Welcome to Tornado</h2>\n",
    "#                <br>\n",
    "#                <p>This is the index page</p>\n",
    "#    \n",
    "# {% end block %}"
   ]
  },
  {
   "cell_type": "markdown",
   "metadata": {},
   "source": [
    "In other words, index.html becomes..."
   ]
  },
  {
   "cell_type": "code",
   "execution_count": 4,
   "metadata": {
    "collapsed": false
   },
   "outputs": [],
   "source": [
    "# <!DOCTYPE html>\n",
    "# <head>\n",
    "#   <title>Tornado</title>\n",
    "# </head>\n",
    "# <body>\n",
    "#\n",
    "#     \n",
    "#        <h2>Welcome to Tornado</h2>\n",
    "#        <br>\n",
    "#        <p>This is the index page</p>\n",
    "#     \n",
    "#        \n",
    "# </body>\n",
    "# </html>"
   ]
  },
  {
   "cell_type": "markdown",
   "metadata": {},
   "source": [
    "# Back-end  "
   ]
  },
  {
   "cell_type": "markdown",
   "metadata": {},
   "source": [
    "### app.py  \n",
    "\n",
    "Lets look at the code..."
   ]
  },
  {
   "cell_type": "markdown",
   "metadata": {},
   "source": [
    "#### Section 1\n",
    "    import tornado.ioloop\n",
    "    import tornado.web\n",
    "    \n",
    "\n",
    "#### Section 2\n",
    "    class MainHandler(tornado.web.RequestHandler):\n",
    "        def get(self):\n",
    "            self.render('templates/index.html') \n",
    "\n",
    "#### Section 3\n",
    "    # r\"/\" == root website address\n",
    "    application = tornado.web.Application([\n",
    "        (r\"/\", MainHandler)\n",
    "    ],debug=True) \n",
    "    \n",
    "#### Section 4\n",
    "    if __name__ == \"__main__\":\n",
    "        PortNumber = str(8888)\n",
    "        print(r'Server Running at http://localhost:' + PortNumber + r'/')\n",
    "        print(r'To close press ctrl + c')\n",
    "        application.listen(PortNumber)\n",
    "        tornado.ioloop.IOLoop.instance().start()"
   ]
  },
  {
   "cell_type": "markdown",
   "metadata": {},
   "source": [
    "***Section 1:***  \n",
    "Import what we need from Tornado  \n",
    "\n",
    "***Section 3:***  \n",
    "This is were you tell Tornado what to do when someone goes to your webpage. In our case there is only one url address ***(r\"/\")*** and it says when someone goes to ***http://localhost:8888/***, then go to the class named ***MainHandler***. The class MainHandler is in Section 2.  \n",
    "\n",
    "***Section 2:***  \n",
    "This class gets called when someone navigates to ***http://localhost:8888/***. It then renders the index.HTML file. The function ***get*** is a Tornado function.  \n",
    "\n",
    "***Section 4:***  \n",
    "Aside from the print statements we select a port number and tell Tornado to start the server."
   ]
  },
  {
   "cell_type": "markdown",
   "metadata": {},
   "source": [
    "**Author:** [HEDARO](http://www.hedaro.com)  "
   ]
  }
 ],
 "metadata": {
  "kernelspec": {
   "display_name": "Python 3",
   "language": "python",
   "name": "python3"
  },
  "language_info": {
   "codemirror_mode": {
    "name": "ipython",
    "version": 3
   },
   "file_extension": ".py",
   "mimetype": "text/x-python",
   "name": "python",
   "nbconvert_exporter": "python",
   "pygments_lexer": "ipython3",
   "version": "3.5.1"
  }
 },
 "nbformat": 4,
 "nbformat_minor": 0
}
