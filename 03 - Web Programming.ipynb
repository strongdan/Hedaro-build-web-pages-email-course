{
 "cells": [
  {
   "cell_type": "markdown",
   "metadata": {},
   "source": [
    "# Goal - Add some basic settings to our web app  \n",
    "\n",
    "* Add references to our static and template folders   \n",
    "* Turn on debugging   \n"
   ]
  },
  {
   "cell_type": "markdown",
   "metadata": {},
   "source": [
    "The only changes are in the ***app.py*** file. So go ahead and open up the [third lesson](http://bit.ly/1K82t07) and lets begin..."
   ]
  },
  {
   "cell_type": "code",
   "execution_count": 1,
   "metadata": {
    "collapsed": false
   },
   "outputs": [],
   "source": [
    "#settings = dict(\n",
    "#        template_path=os.path.join(os.path.dirname(__file__), \"templates\"),\n",
    "#        static_path=os.path.join(os.path.dirname(__file__), \"static\"),\n",
    "#        debug=True\n",
    "#)"
   ]
  },
  {
   "cell_type": "markdown",
   "metadata": {},
   "source": [
    "We have basically moved the debug option out of the url handler into a dictionary we call ***settings***. In here we also let Tornado know where the ***template*** and ***static*** folders are located. This will allow us to reference files inside these two folders much easier going forward."
   ]
  },
  {
   "cell_type": "code",
   "execution_count": 2,
   "metadata": {
    "collapsed": false
   },
   "outputs": [],
   "source": [
    "#self.render('index.html',\n",
    "#             page_title = 'This is Amazing!!!',\n",
    "#             page_heading = 'Welcome to Tornado'\n",
    "#) "
   ]
  },
  {
   "cell_type": "markdown",
   "metadata": {},
   "source": [
    "As shown above we can now refer to files directly by their name instead of ***template/index.html*** as we have been doing previously, we can now simply call our file by typing ***index.html***."
   ]
  },
  {
   "cell_type": "markdown",
   "metadata": {},
   "source": [
    "**Author:** [HEDARO](http://www.hedaro.com) "
   ]
  }
 ],
 "metadata": {
  "kernelspec": {
   "display_name": "Python 3",
   "language": "python",
   "name": "python3"
  },
  "language_info": {
   "codemirror_mode": {
    "name": "ipython",
    "version": 3
   },
   "file_extension": ".py",
   "mimetype": "text/x-python",
   "name": "python",
   "nbconvert_exporter": "python",
   "pygments_lexer": "ipython3",
   "version": "3.5.1"
  }
 },
 "nbformat": 4,
 "nbformat_minor": 0
}
